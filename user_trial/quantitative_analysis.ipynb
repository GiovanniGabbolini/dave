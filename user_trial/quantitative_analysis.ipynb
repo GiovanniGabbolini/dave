{
 "cells": [
  {
   "cell_type": "code",
   "execution_count": 1,
   "metadata": {},
   "outputs": [],
   "source": [
    "import sys\n",
    "import os\n",
    "os.chdir('./..')\n",
    "sys.path.append(os.getcwd())"
   ]
  },
  {
   "cell_type": "markdown",
   "metadata": {},
   "source": [
    "[Preprocessing](#preprocessing):\n",
    "- [Completion time](#elapsed_time)\n",
    "- [Language proficiency](#language_proficiency)\n",
    "\n",
    "[Segue categories](#segue_categories)\n",
    "\n",
    "[User categories](#user_categories)\n",
    "\n",
    "[Performance](#performance):\n",
    "- [Metrics](#metrics)\n",
    "- [Heatmaps](#heatmaps)\n",
    "\n",
    "[Interestingness and metrics](#interestingness) </br>\n",
    "[Text length and likeability](#text_length) </br>\n",
    "[Confounding effects of familiarity](#familiarity) </br>\n",
    "<a id=\"top\"></a>"
   ]
  },
  {
   "cell_type": "code",
   "execution_count": 2,
   "metadata": {},
   "outputs": [],
   "source": [
    "from playlist_explanation.run import save_graph_the_chain\n",
    "from analyze_answers import segue_eval_df, load_answers, user_traits_df, interestingness_df, segue_text_df, familiarity_df, pull_treatment,segue_category_df, user_category_df\n",
    "import pandas as pd\n",
    "from scipy import stats\n",
    "import re\n",
    "import seaborn as sns\n",
    "sns.set_theme()\n",
    "pd.set_option(\"max_rows\", 20)\n",
    "import numpy as np\n",
    "import matplotlib.pyplot as plt\n",
    "import matplotlib.ticker as ticker\n",
    "import logging\n",
    "logging.getLogger().setLevel(logging.ERROR)\n",
    "\n",
    "def trunc(number, n_digits):\n",
    "    return '{:.{prec}f}'.format(number, prec=n_digits)\n",
    "\n",
    "def to_latex(df):\n",
    "    d={'likeable': '\\\\likeable','funny': '\\\\funny','informative': '\\\\informative','creative': '\\\\creative','high_quality': '\\\\hq', 'sparked_interest': '\\\\si', 'well_written':'\\\\ww', 'the_chain':'\\\\chain', 'dave': '\\\\dave', 'understandable': '\\\\understandable'}\n",
    "    df=df.rename(d, axis=1)\n",
    "    df=df.rename(d, axis=0)\n",
    "    \n",
    "    s=\"\\\\begin{table} \\n\"\n",
    "    s+=df.to_latex(multicolumn_format='c', column_format=f'l{\"c\"*df.shape[1]}', escape=False, \\\n",
    "                   header=[c[0] if type(c)==tuple else c for c in df.columns.values] if type(df.columns.values[0])==str else True, \\\n",
    "                   formatters=[lambda x: '$'+re.sub(r'(\\*+)', '^{\\g<1>}', x)+'$' for _ in range(len(df.columns))])\n",
    "    s+=\"\\\\caption{} \\n \\\\label{} \\n \\\\end{table}\"\n",
    "    \n",
    "    s=s.replace('\\\\textbackslash ', '\\\\')\n",
    "    print(s)"
   ]
  },
  {
   "cell_type": "markdown",
   "metadata": {},
   "source": [
    "# Preprocessing\n",
    "<a id=\"preprocessing\"></a>\n",
    "[Go to top](#top)"
   ]
  },
  {
   "cell_type": "markdown",
   "metadata": {},
   "source": [
    "Total number of answers: 158"
   ]
  },
  {
   "cell_type": "markdown",
   "metadata": {},
   "source": [
    "We discard answers if at least one of the following is verified:\n",
    "- completion time < 3 min\n",
    "- language proficiency == mid"
   ]
  },
  {
   "cell_type": "code",
   "execution_count": 3,
   "metadata": {},
   "outputs": [
    {
     "name": "stdout",
     "output_type": "stream",
     "text": [
      "After filtering, we end up with 151 answers\n"
     ]
    }
   ],
   "source": [
    "print(f\"After filtering, we end up with {len(load_answers())} answers\")"
   ]
  },
  {
   "cell_type": "markdown",
   "metadata": {},
   "source": [
    "## Completion time\n",
    "<a id=\"elapsed_time\"></a>\n",
    "[Go to top](#top)"
   ]
  },
  {
   "cell_type": "code",
   "execution_count": 4,
   "metadata": {
    "jupyter": {
     "source_hidden": true
    }
   },
   "outputs": [
    {
     "name": "stdout",
     "output_type": "stream",
     "text": [
      "Median completion time: 7.37 minutes\n",
      "Max completion time: 68.95 minutes\n",
      "Min completion time: 3.36 minutes\n"
     ]
    }
   ],
   "source": [
    "elapsed_times = [a['elapsed_time']/60 for a in load_answers()]\n",
    "print(f\"Median completion time: {trunc(np.median(elapsed_times),2)} minutes\")\n",
    "print(f\"Max completion time: {trunc(max(elapsed_times),2)} minutes\")\n",
    "print(f\"Min completion time: {trunc(min(elapsed_times),2)} minutes\")"
   ]
  },
  {
   "cell_type": "code",
   "execution_count": 5,
   "metadata": {
    "jupyter": {
     "source_hidden": true
    }
   },
   "outputs": [
    {
     "data": {
      "image/png": "[encoded data removed]",
      "text/plain": [
       "<Figure size 432x288 with 1 Axes>"
      ]
     },
     "metadata": {},
     "output_type": "display_data"
    }
   ],
   "source": [
    "_=plt.hist(elapsed_times, bins=70)"
   ]
  },
  {
   "cell_type": "markdown",
   "metadata": {},
   "source": [
    "## Language proficiency\n",
    "<a id=\"language_proficiency\"></a>\n",
    "[Go to top](#top)"
   ]
  },
  {
   "cell_type": "code",
   "execution_count": 6,
   "metadata": {
    "jupyter": {
     "source_hidden": true
    }
   },
   "outputs": [
    {
     "data": {
      "image/png": "[encoded data removed]",
      "text/plain": [
       "<Figure size 432x288 with 1 Axes>"
      ]
     },
     "metadata": {},
     "output_type": "display_data"
    }
   ],
   "source": [
    "df = user_traits_df(load_answers())\n",
    "_=df.proficiency.hist()"
   ]
  },
  {
   "cell_type": "markdown",
   "metadata": {},
   "source": [
    "# Segue categories\n",
    "<a id=\"segue_categories\"></a>\n",
    "[Go to top](#top)"
   ]
  },
  {
   "cell_type": "code",
   "execution_count": 7,
   "metadata": {
    "jupyter": {
     "source_hidden": true
    }
   },
   "outputs": [
    {
     "data": {
      "image/png": "[encoded data removed]",
      "text/plain": [
       "<Figure size 432x288 with 1 Axes>"
      ]
     },
     "metadata": {},
     "output_type": "display_data"
    }
   ],
   "source": [
    "df_eval = segue_eval_df(load_answers())\n",
    "df_segue_cat = segue_category_df()\n",
    "df = df_eval.set_index(['segue_idx','treatment']).join(df_segue_cat.set_index(['segue_idx','treatment']), how='left').reset_index()\n",
    "_=sns.histplot(data=df, x='treatment', hue=\"segue_category\", multiple=\"stack\")"
   ]
  },
  {
   "cell_type": "markdown",
   "metadata": {},
   "source": [
    "- The two methods are both biased, The Chain towards funny and Dave towards informative"
   ]
  },
  {
   "cell_type": "markdown",
   "metadata": {},
   "source": [
    "# User categories\n",
    "<a id=\"user_categories\"></a>\n",
    "[Go to top](#top)"
   ]
  },
  {
   "cell_type": "markdown",
   "metadata": {},
   "source": [
    "### Separation strategies"
   ]
  },
  {
   "cell_type": "markdown",
   "metadata": {},
   "source": [
    "#### Quartiles"
   ]
  },
  {
   "cell_type": "code",
   "execution_count": 8,
   "metadata": {
    "jupyter": {
     "source_hidden": true
    }
   },
   "outputs": [
    {
     "data": {
      "image/png": "[encoded data removed]",
      "text/plain": [
       "<Figure size 432x288 with 1 Axes>"
      ]
     },
     "metadata": {},
     "output_type": "display_data"
    }
   ],
   "source": [
    "df_traits = user_traits_df(load_answers()).drop(\"proficiency\", axis=1)\n",
    "df_traits['gold_msi']=df_traits[df_traits.columns[1:]].sum(axis=1)\n",
    "df_traits=df_traits[df_traits.columns[[0,10]]]\n",
    "_=sns.histplot(df_traits['gold_msi'], bins=30)\n",
    "for n in df_traits['gold_msi'].quantile([0.25,0.5,0.75]):\n",
    "    plt.axvline(n, 0,100, color='r')"
   ]
  },
  {
   "cell_type": "markdown",
   "metadata": {},
   "source": [
    "Confidence interval in performance -> metric show cohesion on first and fourth quartiles. This is an hint that partitioning with quartiles is good."
   ]
  },
  {
   "cell_type": "markdown",
   "metadata": {},
   "source": [
    "**I've picked this strategy**"
   ]
  },
  {
   "cell_type": "markdown",
   "metadata": {},
   "source": [
    "# Performance\n",
    "<a id=\"performance\"></a>"
   ]
  },
  {
   "cell_type": "markdown",
   "metadata": {},
   "source": [
    "## Metrics\n",
    "<a id=\"metrics\"></a>\n",
    "[Go to top](#top)"
   ]
  },
  {
   "cell_type": "markdown",
   "metadata": {},
   "source": [
    "#### Union"
   ]
  },
  {
   "cell_type": "code",
   "execution_count": 9,
   "metadata": {
    "jupyter": {
     "source_hidden": true
    }
   },
   "outputs": [],
   "source": [
    "def performance_table(df, attribute, test_type='rel', tests=[], include_union=False):\n",
    "    digits=2\n",
    "    attribute = attribute if type(attribute) is list else [attribute]\n",
    "    l=['likeable', 'high_quality','sparked_interest','funny','informative','creative', 'understandable','well_written']\n",
    "    _df=df[attribute+l]\n",
    "    add1=_df.groupby(attribute).mean().astype(np.object)\n",
    "    add2=_df[l].mean().to_frame().T.rename({0:'union'}).astype(np.object)\n",
    "    \n",
    "    add1_formatted = add1.copy()\n",
    "    add2_formatted = add2.copy()\n",
    "    for v1, v2 in tests:\n",
    "        for j, c in enumerate(l):\n",
    "\n",
    "            df_slice_v1=df.copy()\n",
    "            for a,v in zip(attribute,list(v1) if type(v1) is tuple else [v1]):\n",
    "                df_slice_v1 = df_slice_v1[df_slice_v1[a]==v]\n",
    "                \n",
    "            df_slice_v2=df.copy()\n",
    "            for a,v in zip(attribute,list(v2) if type(v2) is tuple else [v2]):\n",
    "                df_slice_v2 = df_slice_v2[df_slice_v2[a]==v]\n",
    "            \n",
    "            if test_type=='rel':\n",
    "                statistics, p = stats.ttest_rel(df_slice_v1[c].values, df_slice_v2[c].values, nan_policy='omit')\n",
    "            elif test_type=='ind':\n",
    "                statistics, p = stats.ttest_ind(df_slice_v1[c].values, df_slice_v2[c].values, nan_policy='omit')\n",
    "\n",
    "            if p < 0.001:\n",
    "                score_prefix = '***'\n",
    "            elif p >= 0.001 and p<0.01:\n",
    "                score_prefix = '**'\n",
    "            elif p>=0.01 and p<0.05:\n",
    "                score_prefix = '*'\n",
    "            else:\n",
    "                score_prefix = ''\n",
    "                \n",
    "            if add1.loc[v1][j]>=add1.loc[v2][j]:\n",
    "                add1_formatted.loc[v1][j] = f\"{trunc(add1.loc[v1][j],digits)}{score_prefix}\"\n",
    "                add1_formatted.loc[v2][j] = trunc(add1.loc[v2][j],digits)\n",
    "            else:\n",
    "                add1_formatted.loc[v1][j] = trunc(add1.loc[v1][j],digits)\n",
    "                add1_formatted.loc[v2][j] = f\"{trunc(add1.loc[v2][j],digits)}{score_prefix}\"\n",
    "\n",
    "            add2_formatted.iloc[0][j] = trunc(add2.iloc[0][j],digits)\n",
    "    \n",
    "    if include_union:\n",
    "        return pd.concat([add1_formatted[l], add2_formatted[l]])\n",
    "    else:\n",
    "        return add1_formatted[l].set_index(pd.Index(add1_formatted[l].index.values))"
   ]
  },
  {
   "cell_type": "code",
   "execution_count": 10,
   "metadata": {
    "jupyter": {
     "source_hidden": true
    }
   },
   "outputs": [
    {
     "data": {
      "text/html": [
       "<div>\n",
       "<style scoped>\n",
       "    .dataframe tbody tr th:only-of-type {\n",
       "        vertical-align: middle;\n",
       "    }\n",
       "\n",
       "    .dataframe tbody tr th {\n",
       "        vertical-align: top;\n",
       "    }\n",
       "\n",
       "    .dataframe thead th {\n",
       "        text-align: right;\n",
       "    }\n",
       "</style>\n",
       "<table border=\"1\" class=\"dataframe\">\n",
       "  <thead>\n",
       "    <tr style=\"text-align: right;\">\n",
       "      <th></th>\n",
       "      <th>likeable</th>\n",
       "      <th>high_quality</th>\n",
       "      <th>sparked_interest</th>\n",
       "      <th>funny</th>\n",
       "      <th>informative</th>\n",
       "      <th>creative</th>\n",
       "      <th>understandable</th>\n",
       "      <th>well_written</th>\n",
       "    </tr>\n",
       "  </thead>\n",
       "  <tbody>\n",
       "    <tr>\n",
       "      <th>dave</th>\n",
       "      <td>3.11</td>\n",
       "      <td>3.01</td>\n",
       "      <td>2.92</td>\n",
       "      <td>2.54</td>\n",
       "      <td>3.23**</td>\n",
       "      <td>3.28</td>\n",
       "      <td>3.72</td>\n",
       "      <td>3.30</td>\n",
       "    </tr>\n",
       "    <tr>\n",
       "      <th>the_chain</th>\n",
       "      <td>3.26*</td>\n",
       "      <td>3.16*</td>\n",
       "      <td>3.02</td>\n",
       "      <td>2.83***</td>\n",
       "      <td>3.03</td>\n",
       "      <td>3.58***</td>\n",
       "      <td>3.76</td>\n",
       "      <td>3.34</td>\n",
       "    </tr>\n",
       "  </tbody>\n",
       "</table>\n",
       "</div>"
      ],
      "text/plain": [
       "          likeable high_quality sparked_interest    funny informative  \\\n",
       "dave          3.11         3.01             2.92     2.54      3.23**   \n",
       "the_chain    3.26*        3.16*             3.02  2.83***        3.03   \n",
       "\n",
       "          creative understandable well_written  \n",
       "dave          3.28           3.72         3.30  \n",
       "the_chain  3.58***           3.76         3.34  "
      ]
     },
     "execution_count": 10,
     "metadata": {},
     "output_type": "execute_result"
    }
   ],
   "source": [
    "df = segue_eval_df(load_answers())\n",
    "table = performance_table(df,attribute='treatment', tests=[('dave', 'the_chain')])\n",
    "table"
   ]
  },
  {
   "cell_type": "markdown",
   "metadata": {},
   "source": [
    "*Paired t-test*.</br>\n",
    "\\*: p-value < 0.05 </br>\n",
    "\\*\\*: p-value < 0.01 </br>\n",
    "\\*\\*\\*: p-value < 0.001"
   ]
  },
  {
   "cell_type": "markdown",
   "metadata": {},
   "source": [
    "**Notice**: here I'm assuming that every user had took book treatments just one time. We can either ignore this, or do some additional tests. We ignore this. </br>"
   ]
  },
  {
   "cell_type": "markdown",
   "metadata": {},
   "source": [
    "We score high on understandable, users get segues"
   ]
  },
  {
   "cell_type": "markdown",
   "metadata": {},
   "source": [
    "**We drop this table, here we are mixing funny and informative segues. It is better to compare them separately**"
   ]
  },
  {
   "cell_type": "markdown",
   "metadata": {},
   "source": [
    "#### Partition by user category"
   ]
  },
  {
   "cell_type": "markdown",
   "metadata": {},
   "source": [
    "##### Across treatments, no significant difference between treatments"
   ]
  },
  {
   "cell_type": "code",
   "execution_count": 11,
   "metadata": {
    "jupyter": {
     "source_hidden": true
    }
   },
   "outputs": [],
   "source": [
    "df_eval = segue_eval_df(load_answers())\n",
    "df_user_cat = user_category_df()\n",
    "df = df_eval.set_index('user_idx').join(df_user_cat.set_index('user_idx'), how='left').reset_index()"
   ]
  },
  {
   "cell_type": "code",
   "execution_count": 12,
   "metadata": {
    "jupyter": {
     "source_hidden": true
    }
   },
   "outputs": [
    {
     "data": {
      "text/html": [
       "<div>\n",
       "<style scoped>\n",
       "    .dataframe tbody tr th:only-of-type {\n",
       "        vertical-align: middle;\n",
       "    }\n",
       "\n",
       "    .dataframe tbody tr th {\n",
       "        vertical-align: top;\n",
       "    }\n",
       "\n",
       "    .dataframe thead th {\n",
       "        text-align: right;\n",
       "    }\n",
       "</style>\n",
       "<table border=\"1\" class=\"dataframe\">\n",
       "  <thead>\n",
       "    <tr style=\"text-align: right;\">\n",
       "      <th></th>\n",
       "      <th>likeable</th>\n",
       "      <th>high_quality</th>\n",
       "      <th>sparked_interest</th>\n",
       "      <th>funny</th>\n",
       "      <th>informative</th>\n",
       "      <th>creative</th>\n",
       "      <th>understandable</th>\n",
       "      <th>well_written</th>\n",
       "    </tr>\n",
       "  </thead>\n",
       "  <tbody>\n",
       "    <tr>\n",
       "      <th>low AE</th>\n",
       "      <td>3.08</td>\n",
       "      <td>3.00</td>\n",
       "      <td>2.64</td>\n",
       "      <td>2.56</td>\n",
       "      <td>3.07</td>\n",
       "      <td>3.28</td>\n",
       "      <td>3.63</td>\n",
       "      <td>3.18</td>\n",
       "    </tr>\n",
       "    <tr>\n",
       "      <th>mid-low AE</th>\n",
       "      <td>3.20</td>\n",
       "      <td>3.08</td>\n",
       "      <td>2.97**</td>\n",
       "      <td>2.72</td>\n",
       "      <td>3.01</td>\n",
       "      <td>3.34</td>\n",
       "      <td>3.71</td>\n",
       "      <td>3.23</td>\n",
       "    </tr>\n",
       "    <tr>\n",
       "      <th>mid-high AE</th>\n",
       "      <td>3.19</td>\n",
       "      <td>3.09</td>\n",
       "      <td>3.16***</td>\n",
       "      <td>2.80*</td>\n",
       "      <td>3.26</td>\n",
       "      <td>3.54**</td>\n",
       "      <td>3.72</td>\n",
       "      <td>3.46**</td>\n",
       "    </tr>\n",
       "    <tr>\n",
       "      <th>high AE</th>\n",
       "      <td>3.25</td>\n",
       "      <td>3.16</td>\n",
       "      <td>3.09***</td>\n",
       "      <td>2.66</td>\n",
       "      <td>3.19</td>\n",
       "      <td>3.53**</td>\n",
       "      <td>3.86*</td>\n",
       "      <td>3.42*</td>\n",
       "    </tr>\n",
       "  </tbody>\n",
       "</table>\n",
       "</div>"
      ],
      "text/plain": [
       "            likeable high_quality sparked_interest  funny informative  \\\n",
       "low AE          3.08         3.00             2.64   2.56        3.07   \n",
       "mid-low AE      3.20         3.08           2.97**   2.72        3.01   \n",
       "mid-high AE     3.19         3.09          3.16***  2.80*        3.26   \n",
       "high AE         3.25         3.16          3.09***   2.66        3.19   \n",
       "\n",
       "            creative understandable well_written  \n",
       "low AE          3.28           3.63         3.18  \n",
       "mid-low AE      3.34           3.71         3.23  \n",
       "mid-high AE   3.54**           3.72       3.46**  \n",
       "high AE       3.53**          3.86*        3.42*  "
      ]
     },
     "execution_count": 12,
     "metadata": {},
     "output_type": "execute_result"
    }
   ],
   "source": [
    "table=performance_table(df,'user_category', tests=[('1','2'),('1','3'),('1','4')], test_type='ind')\n",
    "table=table.rename(index={'1': 'low AE', '2': 'mid-low AE', '3':'mid-high AE', '4':'high AE',})\n",
    "table"
   ]
  },
  {
   "cell_type": "markdown",
   "metadata": {},
   "source": [
    "Testing first row against the all the others"
   ]
  },
  {
   "cell_type": "code",
   "execution_count": 13,
   "metadata": {
    "collapsed": true,
    "jupyter": {
     "outputs_hidden": true,
     "source_hidden": true
    }
   },
   "outputs": [
    {
     "name": "stdout",
     "output_type": "stream",
     "text": [
      "\\begin{table} \n",
      "\\begin{tabular}{lcccccccc}\n",
      "\\toprule\n",
      "{} & \\likeable &     \\hq &           \\si &      \\funny & \\informative &    \\creative & \\understandable &          \\ww \\\\\n",
      "\\midrule\n",
      "low AE      &    $3.08$ &  $3.00$ &        $2.64$ &      $2.56$ &       $3.07$ &       $3.28$ &          $3.63$ &       $3.18$ \\\\\n",
      "mid-low AE  &    $3.20$ &  $3.08$ &   $2.97^{**}$ &      $2.72$ &       $3.01$ &       $3.34$ &          $3.71$ &       $3.23$ \\\\\n",
      "mid-high AE &    $3.19$ &  $3.09$ &  $3.16^{***}$ &  $2.80^{*}$ &       $3.26$ &  $3.54^{**}$ &          $3.72$ &  $3.46^{**}$ \\\\\n",
      "high AE     &    $3.25$ &  $3.16$ &  $3.09^{***}$ &      $2.66$ &       $3.19$ &  $3.53^{**}$ &      $3.86^{*}$ &   $3.42^{*}$ \\\\\n",
      "\\bottomrule\n",
      "\\end{tabular}\n",
      "\\caption{} \n",
      " \\label{} \n",
      " \\end{table}\n"
     ]
    }
   ],
   "source": [
    "to_latex(table)"
   ]
  },
  {
   "cell_type": "markdown",
   "metadata": {},
   "source": [
    "**Story**\n",
    "\n",
    "- Sparked_interest goes up with gold_msi in a statistical significant way. Maybe, since they are more interested in music, are keen to discover songs. Maybe, the concept of checking out new music is related to some questions in the gold-msi;\n",
    "- All the other metrics go up with quartiles, but _not_ in a stat significant way;\n",
    "- Segues are appreciated by nerds as by pop people. But nerds would be more persuaded by segues to listen to music.\n"
   ]
  },
  {
   "cell_type": "markdown",
   "metadata": {},
   "source": [
    "This tables does not change if we consider twotiles and threetiles"
   ]
  },
  {
   "cell_type": "markdown",
   "metadata": {},
   "source": [
    "We obtain a table with the same behaviour as this if we further partition by segue category"
   ]
  },
  {
   "cell_type": "markdown",
   "metadata": {},
   "source": [
    "#### Partition by segue category"
   ]
  },
  {
   "cell_type": "markdown",
   "metadata": {},
   "source": [
    "Across treatments"
   ]
  },
  {
   "cell_type": "code",
   "execution_count": 14,
   "metadata": {
    "jupyter": {
     "source_hidden": true
    }
   },
   "outputs": [
    {
     "data": {
      "text/html": [
       "<div>\n",
       "<style scoped>\n",
       "    .dataframe tbody tr th:only-of-type {\n",
       "        vertical-align: middle;\n",
       "    }\n",
       "\n",
       "    .dataframe tbody tr th {\n",
       "        vertical-align: top;\n",
       "    }\n",
       "\n",
       "    .dataframe thead th {\n",
       "        text-align: right;\n",
       "    }\n",
       "</style>\n",
       "<table border=\"1\" class=\"dataframe\">\n",
       "  <thead>\n",
       "    <tr style=\"text-align: right;\">\n",
       "      <th></th>\n",
       "      <th>likeable</th>\n",
       "      <th>high_quality</th>\n",
       "      <th>sparked_interest</th>\n",
       "      <th>funny</th>\n",
       "      <th>informative</th>\n",
       "      <th>creative</th>\n",
       "      <th>understandable</th>\n",
       "      <th>well_written</th>\n",
       "    </tr>\n",
       "  </thead>\n",
       "  <tbody>\n",
       "    <tr>\n",
       "      <th>F</th>\n",
       "      <td>3.15</td>\n",
       "      <td>3.00</td>\n",
       "      <td>2.90</td>\n",
       "      <td>2.82***</td>\n",
       "      <td>2.81</td>\n",
       "      <td>3.44</td>\n",
       "      <td>3.70</td>\n",
       "      <td>3.26</td>\n",
       "    </tr>\n",
       "    <tr>\n",
       "      <th>I</th>\n",
       "      <td>3.24</td>\n",
       "      <td>3.22**</td>\n",
       "      <td>3.08*</td>\n",
       "      <td>2.47</td>\n",
       "      <td>3.64***</td>\n",
       "      <td>3.41</td>\n",
       "      <td>3.79</td>\n",
       "      <td>3.42*</td>\n",
       "    </tr>\n",
       "  </tbody>\n",
       "</table>\n",
       "</div>"
      ],
      "text/plain": [
       "  likeable high_quality sparked_interest    funny informative creative  \\\n",
       "F     3.15         3.00             2.90  2.82***        2.81     3.44   \n",
       "I     3.24       3.22**            3.08*     2.47     3.64***     3.41   \n",
       "\n",
       "  understandable well_written  \n",
       "F           3.70         3.26  \n",
       "I           3.79        3.42*  "
      ]
     },
     "execution_count": 14,
     "metadata": {},
     "output_type": "execute_result"
    }
   ],
   "source": [
    "df_eval = segue_eval_df(load_answers())\n",
    "df_segue_cat = segue_category_df()\n",
    "df = df_eval.set_index(['segue_idx','treatment']).join(df_segue_cat.set_index(['segue_idx','treatment']), how='left').reset_index()\n",
    "performance_table(df, attribute='segue_category', test_type='ind', tests=[('F', 'I')],)"
   ]
  },
  {
   "cell_type": "markdown",
   "metadata": {},
   "source": [
    "**Use this as a validation the ground truth. Statistical significant difference in funny and informative (p<0.001)**"
   ]
  },
  {
   "cell_type": "code",
   "execution_count": 15,
   "metadata": {
    "jupyter": {
     "source_hidden": true
    }
   },
   "outputs": [
    {
     "name": "stdout",
     "output_type": "stream",
     "text": [
      "Informative\n"
     ]
    },
    {
     "data": {
      "text/html": [
       "<div>\n",
       "<style scoped>\n",
       "    .dataframe tbody tr th:only-of-type {\n",
       "        vertical-align: middle;\n",
       "    }\n",
       "\n",
       "    .dataframe tbody tr th {\n",
       "        vertical-align: top;\n",
       "    }\n",
       "\n",
       "    .dataframe thead th {\n",
       "        text-align: right;\n",
       "    }\n",
       "</style>\n",
       "<table border=\"1\" class=\"dataframe\">\n",
       "  <thead>\n",
       "    <tr style=\"text-align: right;\">\n",
       "      <th></th>\n",
       "      <th>likeable</th>\n",
       "      <th>high_quality</th>\n",
       "      <th>sparked_interest</th>\n",
       "      <th>funny</th>\n",
       "      <th>informative</th>\n",
       "      <th>creative</th>\n",
       "      <th>understandable</th>\n",
       "      <th>well_written</th>\n",
       "    </tr>\n",
       "  </thead>\n",
       "  <tbody>\n",
       "    <tr>\n",
       "      <th>dave</th>\n",
       "      <td>3.26</td>\n",
       "      <td>3.22</td>\n",
       "      <td>3.06</td>\n",
       "      <td>2.39</td>\n",
       "      <td>3.73**</td>\n",
       "      <td>3.33</td>\n",
       "      <td>3.84</td>\n",
       "      <td>3.46</td>\n",
       "    </tr>\n",
       "    <tr>\n",
       "      <th>the_chain</th>\n",
       "      <td>3.20</td>\n",
       "      <td>3.20</td>\n",
       "      <td>3.13</td>\n",
       "      <td>2.64*</td>\n",
       "      <td>3.43</td>\n",
       "      <td>3.59*</td>\n",
       "      <td>3.69</td>\n",
       "      <td>3.33</td>\n",
       "    </tr>\n",
       "  </tbody>\n",
       "</table>\n",
       "</div>"
      ],
      "text/plain": [
       "          likeable high_quality sparked_interest  funny informative creative  \\\n",
       "dave          3.26         3.22             3.06   2.39      3.73**     3.33   \n",
       "the_chain     3.20         3.20             3.13  2.64*        3.43    3.59*   \n",
       "\n",
       "          understandable well_written  \n",
       "dave                3.84         3.46  \n",
       "the_chain           3.69         3.33  "
      ]
     },
     "execution_count": 15,
     "metadata": {},
     "output_type": "execute_result"
    }
   ],
   "source": [
    "print(\"Informative\")\n",
    "table=performance_table(df[df.segue_category == 'I'], attribute='treatment', test_type='ind', tests=[('dave', 'the_chain')])\n",
    "table"
   ]
  },
  {
   "cell_type": "code",
   "execution_count": 16,
   "metadata": {
    "collapsed": true,
    "jupyter": {
     "outputs_hidden": true,
     "source_hidden": true
    }
   },
   "outputs": [
    {
     "name": "stdout",
     "output_type": "stream",
     "text": [
      "\\begin{table} \n",
      "\\begin{tabular}{lcccccccc}\n",
      "\\toprule\n",
      "{} & \\likeable &     \\hq &     \\si &      \\funny & \\informative &   \\creative & \\understandable &     \\ww \\\\\n",
      "\\midrule\n",
      "\\dave  &    $3.26$ &  $3.22$ &  $3.06$ &      $2.39$ &  $3.73^{**}$ &      $3.33$ &          $3.84$ &  $3.46$ \\\\\n",
      "\\chain &    $3.20$ &  $3.20$ &  $3.13$ &  $2.64^{*}$ &       $3.43$ &  $3.59^{*}$ &          $3.69$ &  $3.33$ \\\\\n",
      "\\bottomrule\n",
      "\\end{tabular}\n",
      "\\caption{} \n",
      " \\label{} \n",
      " \\end{table}\n"
     ]
    }
   ],
   "source": [
    "to_latex(table)"
   ]
  },
  {
   "cell_type": "code",
   "execution_count": 17,
   "metadata": {
    "jupyter": {
     "source_hidden": true
    }
   },
   "outputs": [
    {
     "name": "stdout",
     "output_type": "stream",
     "text": [
      "Funny\n"
     ]
    },
    {
     "data": {
      "text/html": [
       "<div>\n",
       "<style scoped>\n",
       "    .dataframe tbody tr th:only-of-type {\n",
       "        vertical-align: middle;\n",
       "    }\n",
       "\n",
       "    .dataframe tbody tr th {\n",
       "        vertical-align: top;\n",
       "    }\n",
       "\n",
       "    .dataframe thead th {\n",
       "        text-align: right;\n",
       "    }\n",
       "</style>\n",
       "<table border=\"1\" class=\"dataframe\">\n",
       "  <thead>\n",
       "    <tr style=\"text-align: right;\">\n",
       "      <th></th>\n",
       "      <th>likeable</th>\n",
       "      <th>high_quality</th>\n",
       "      <th>sparked_interest</th>\n",
       "      <th>funny</th>\n",
       "      <th>informative</th>\n",
       "      <th>creative</th>\n",
       "      <th>understandable</th>\n",
       "      <th>well_written</th>\n",
       "    </tr>\n",
       "  </thead>\n",
       "  <tbody>\n",
       "    <tr>\n",
       "      <th>dave</th>\n",
       "      <td>2.94</td>\n",
       "      <td>2.77</td>\n",
       "      <td>2.76</td>\n",
       "      <td>2.71</td>\n",
       "      <td>2.66</td>\n",
       "      <td>3.22</td>\n",
       "      <td>3.58</td>\n",
       "      <td>3.13</td>\n",
       "    </tr>\n",
       "    <tr>\n",
       "      <th>the_chain</th>\n",
       "      <td>3.28***</td>\n",
       "      <td>3.14***</td>\n",
       "      <td>2.99*</td>\n",
       "      <td>2.89*</td>\n",
       "      <td>2.90**</td>\n",
       "      <td>3.57***</td>\n",
       "      <td>3.78*</td>\n",
       "      <td>3.35*</td>\n",
       "    </tr>\n",
       "  </tbody>\n",
       "</table>\n",
       "</div>"
      ],
      "text/plain": [
       "          likeable high_quality sparked_interest  funny informative creative  \\\n",
       "dave          2.94         2.77             2.76   2.71        2.66     3.22   \n",
       "the_chain  3.28***      3.14***            2.99*  2.89*      2.90**  3.57***   \n",
       "\n",
       "          understandable well_written  \n",
       "dave                3.58         3.13  \n",
       "the_chain          3.78*        3.35*  "
      ]
     },
     "execution_count": 17,
     "metadata": {},
     "output_type": "execute_result"
    }
   ],
   "source": [
    "print(\"Funny\")\n",
    "table=performance_table(df[df.segue_category == 'F'], attribute='treatment',test_type='ind',tests=[('dave', 'the_chain')])\n",
    "table"
   ]
  },
  {
   "cell_type": "code",
   "execution_count": 18,
   "metadata": {
    "collapsed": true,
    "jupyter": {
     "outputs_hidden": true,
     "source_hidden": true
    }
   },
   "outputs": [
    {
     "name": "stdout",
     "output_type": "stream",
     "text": [
      "\\begin{table} \n",
      "\\begin{tabular}{lcccccccc}\n",
      "\\toprule\n",
      "{} &     \\likeable &           \\hq &         \\si &      \\funny & \\informative &     \\creative & \\understandable &         \\ww \\\\\n",
      "\\midrule\n",
      "\\dave  &        $2.94$ &        $2.77$ &      $2.76$ &      $2.71$ &       $2.66$ &        $3.22$ &          $3.58$ &      $3.13$ \\\\\n",
      "\\chain &  $3.28^{***}$ &  $3.14^{***}$ &  $2.99^{*}$ &  $2.89^{*}$ &  $2.90^{**}$ &  $3.57^{***}$ &      $3.78^{*}$ &  $3.35^{*}$ \\\\\n",
      "\\bottomrule\n",
      "\\end{tabular}\n",
      "\\caption{} \n",
      " \\label{} \n",
      " \\end{table}\n"
     ]
    }
   ],
   "source": [
    "to_latex(table)"
   ]
  },
  {
   "cell_type": "markdown",
   "metadata": {},
   "source": [
    "Comments in Informative: \n",
    "    \n",
    "- Almost equal in all the quality metrics;\n",
    "- The Chain is more Funny and Creative, while Dave is more Informative;\n",
    "- Surprisingly, Dave is more well_written;\n",
    "- Comments above lack (strong or any) statistical significance.\n",
    "    \n",
    "Comments in Funny:\n",
    "\n",
    "- The Chain wins everywhere, largely;\n",
    "- Not high score in funny overall, maybe because of the medium;\n",
    "    \n",
    "General comments:\n",
    "    \n",
    "- Dave is much better at informing than amusing;\n",
    "- Funny and Informative segues from The Chain are liked the same."
   ]
  },
  {
   "cell_type": "markdown",
   "metadata": {},
   "source": [
    "#### Partition by segue category and user category"
   ]
  },
  {
   "cell_type": "markdown",
   "metadata": {},
   "source": [
    "## Heatmaps\n",
    "<a id=\"heatmaps\"></a>\n",
    "[Go to top](#top)"
   ]
  },
  {
   "cell_type": "markdown",
   "metadata": {},
   "source": [
    "#### Union"
   ]
  },
  {
   "cell_type": "code",
   "execution_count": 19,
   "metadata": {
    "jupyter": {
     "source_hidden": true
    }
   },
   "outputs": [],
   "source": [
    "digits=2\n",
    "def heatmap_pvalues(df,rows=['likeable', 'high_quality', 'sparked_interest', 'understandable'], headers=['interestingness', 'unpopularity', 'rarity', 'shortness']):\n",
    "#     x_ticks=['l', 'h-q', 's-i', 'f', 'i', 'c', 'u', 'w-w']\n",
    "    x_ticks=['$\\it{l}$','$\\it{h}{-}\\it{q}$','$\\it{s}{-}\\it{i}$','$\\it{f}$','$\\it{i}$','$\\it{c}$','$\\it{u}$','$\\it{w}{-}{w}$']\n",
    "    y_ticks=['$\\it{likeable}$','$\\it{high}{-}\\it{quality}$','$\\it{sparked}{-}\\it{interest}$','$\\it{funny}$','$\\it{informative}$','$\\it{creative}$','$\\it{understandable}$','$\\it{well}{-}{written}$']\n",
    "    vals = []\n",
    "    signs = []\n",
    "    df_l=[]\n",
    "    for r in rows:\n",
    "        val = []\n",
    "        sign = []\n",
    "        d={}\n",
    "        for h in headers:\n",
    "            if r==h:\n",
    "                val.append(1)\n",
    "                sign.append('1')\n",
    "            else:\n",
    "                # person r do not accept nans, and require arrays to be all of the same size\n",
    "                copy=df[[r,h]]\n",
    "                copy=copy.dropna()\n",
    "                s, p = stats.spearmanr(copy[r].values, copy[h].values,)\n",
    "                val.append(s)\n",
    "                if p<0.001:\n",
    "                    sign.append(f\"{trunc(s,digits)}$^+$\")\n",
    "#                 elif p>=0.001 and p<0.01:\n",
    "#                     sign.append(f\"{trunc(s,digits)}**\")\n",
    "#                 elif p>=0.01 and p<0.05:\n",
    "#                     sign.append(f\"{trunc(s,digits)}*\")\n",
    "                else:\n",
    "                    sign.append(trunc(s,digits))\n",
    "        vals.append(val)\n",
    "        signs.append(sign)\n",
    "    \n",
    "    f, ax = plt.subplots(figsize=(10,6), nrows=1, ncols=1)\n",
    "    ax.tick_params(axis = 'both', which = 'major', labelsize = 16)\n",
    "    \n",
    "    ax=sns.heatmap(np.array(vals), vmin=-1, vmax=1, annot=np.array(signs), cmap='BrBG', fmt='', annot_kws={'size':18}, xticklabels=x_ticks, yticklabels=y_ticks, ax=ax)\n",
    "    ax.figure.axes[-1].tick_params(labelsize = 19)\n",
    "    plt.savefig('heatmap',bbox_inches = 'tight')"
   ]
  },
  {
   "cell_type": "code",
   "execution_count": 20,
   "metadata": {
    "jupyter": {
     "source_hidden": true
    }
   },
   "outputs": [
    {
     "data": {
      "image/png": "[encoded data removed]",
      "text/plain": [
       "<Figure size 720x432 with 2 Axes>"
      ]
     },
     "metadata": {},
     "output_type": "display_data"
    }
   ],
   "source": [
    "l=['likeable', 'high_quality', 'sparked_interest', 'funny', 'informative', 'creative', 'understandable','well_written']\n",
    "df=segue_eval_df(load_answers())\n",
    "heatmap_pvalues(df, rows=l, headers=l)"
   ]
  },
  {
   "cell_type": "markdown",
   "metadata": {},
   "source": [
    "**Story**\n",
    "\n",
    "- high_quality and likeable are correlated almost perfectly (.79), maybe perceived as the same question; Showing one after the other maybe was not the best idea ...\n",
    "- High correlation between high_quality, likeable and sparked_interest, good segues can keep the flow going;\n",
    "- No correlation (~0) between funny and informative, they are different concepts;\n",
    "- Informative has higher correlation than funny with all the quality metrics;\n",
    "- Creative has good correlation with all the quality metrics;\n",
    "- Understandable is correlated with informative, and probably not correlated with funny."
   ]
  },
  {
   "cell_type": "markdown",
   "metadata": {},
   "source": [
    "No significant difference partitioning by treatment, and high uncertainty when partitioning by segue category and user category"
   ]
  },
  {
   "cell_type": "markdown",
   "metadata": {},
   "source": [
    "# Interestingness and metrics\n",
    "<a id=\"interestingness\"></a>\n",
    "[Go to top](#top)"
   ]
  },
  {
   "cell_type": "code",
   "execution_count": 21,
   "metadata": {
    "jupyter": {
     "source_hidden": true
    }
   },
   "outputs": [],
   "source": [
    "int_df=interestingness_df(load_answers())\n",
    "eval_df = segue_eval_df(load_answers())\n",
    "eval_df=eval_df[eval_df.treatment=='dave'].reset_index(drop=True)\n",
    "segue_cat_df=segue_category_df()\n",
    "user_cat_df = user_category_df()\n",
    "segue_cat_df=segue_cat_df[segue_cat_df.treatment=='dave'].drop(['treatment'],axis=1)\n",
    "df = eval_df.set_index('segue_idx').join(int_df.set_index('segue_idx'), how=\"left\").join(segue_cat_df.set_index('segue_idx'), how='left').reset_index()\n",
    "df = df.set_index('user_idx').join(user_cat_df.set_index('user_idx'), how='left').reset_index()"
   ]
  },
  {
   "cell_type": "code",
   "execution_count": 22,
   "metadata": {
    "jupyter": {
     "source_hidden": true
    }
   },
   "outputs": [],
   "source": [
    "digits = 2\n",
    "\n",
    "def correlation_df_CIs(df,rows=['likeable', 'high_quality', 'sparked_interest', 'understandable'], headers=['interestingness', 'unpopularity', 'rarity', 'shortness']):\n",
    "    bootstrap_replicas = [df.sample(n=len(df), replace=True) for _ in range(1000)]\n",
    "    df_l=[]\n",
    "    for r in rows:\n",
    "        d={}\n",
    "        for h in headers:\n",
    "            d[h]=[br[r].corr(br[h], method='spearman') for br in bootstrap_replicas]\n",
    "            interval=np.percentile(d[h], 97.5)-np.percentile(d[h], 2.5)\n",
    "            d[h]=[f\"{trunc(np.mean(d[h]),digits)}±{trunc(interval/2,digits)}\"]\n",
    "        df_l.append(pd.DataFrame(d))\n",
    "    return pd.concat(df_l).rename({j: k for j,k in enumerate(rows)})\n",
    "\n",
    "def correlation_df_pvalues(df,rows=['likeable', 'high_quality', 'sparked_interest', 'understandable'], headers=['interestingness', 'unpopularity', 'rarity', 'shortness']):\n",
    "    df_l=[]\n",
    "    for r in rows:\n",
    "        d={}\n",
    "        for h in headers:\n",
    "            # person r do not accept nans, and require arrays to be all of the same size\n",
    "            copy=df[[r,h]]\n",
    "            copy=copy.dropna()\n",
    "            s, p = stats.spearmanr(copy[r].values, copy[h].values,)\n",
    "            if p<0.001:\n",
    "                d[h]=[f\"{trunc(s, digits)}***\"]\n",
    "            elif p>=0.001 and p<0.01:\n",
    "                d[h]=[f\"{trunc(s, digits)}**\"]\n",
    "            elif p>=0.01 and p<0.05:\n",
    "                d[h]=[f\"{trunc(s, digits)}*\"]\n",
    "            else:\n",
    "                d[h]=[trunc(s, digits)]\n",
    "        df_l.append(pd.DataFrame(d))\n",
    "    return pd.concat(df_l).reset_index(drop=True).rename({j: k for j,k in enumerate(rows)})"
   ]
  },
  {
   "cell_type": "code",
   "execution_count": 23,
   "metadata": {
    "jupyter": {
     "source_hidden": true
    }
   },
   "outputs": [
    {
     "data": {
      "text/html": [
       "<div>\n",
       "<style scoped>\n",
       "    .dataframe tbody tr th:only-of-type {\n",
       "        vertical-align: middle;\n",
       "    }\n",
       "\n",
       "    .dataframe tbody tr th {\n",
       "        vertical-align: top;\n",
       "    }\n",
       "\n",
       "    .dataframe thead tr th {\n",
       "        text-align: left;\n",
       "    }\n",
       "</style>\n",
       "<table border=\"1\" class=\"dataframe\">\n",
       "  <thead>\n",
       "    <tr>\n",
       "      <th></th>\n",
       "      <th colspan=\"2\" halign=\"left\">interestingness</th>\n",
       "    </tr>\n",
       "    <tr>\n",
       "      <th></th>\n",
       "      <th>informative segues</th>\n",
       "      <th>funny segues</th>\n",
       "    </tr>\n",
       "  </thead>\n",
       "  <tbody>\n",
       "    <tr>\n",
       "      <th>likeable</th>\n",
       "      <td>0.25***</td>\n",
       "      <td>0.13</td>\n",
       "    </tr>\n",
       "    <tr>\n",
       "      <th>high_quality</th>\n",
       "      <td>0.23***</td>\n",
       "      <td>0.11</td>\n",
       "    </tr>\n",
       "    <tr>\n",
       "      <th>sparked_interest</th>\n",
       "      <td>0.17**</td>\n",
       "      <td>-0.00</td>\n",
       "    </tr>\n",
       "    <tr>\n",
       "      <th>funny</th>\n",
       "      <td>-0.06</td>\n",
       "      <td>-0.17*</td>\n",
       "    </tr>\n",
       "    <tr>\n",
       "      <th>informative</th>\n",
       "      <td>0.14*</td>\n",
       "      <td>0.04</td>\n",
       "    </tr>\n",
       "    <tr>\n",
       "      <th>creative</th>\n",
       "      <td>0.15*</td>\n",
       "      <td>-0.09</td>\n",
       "    </tr>\n",
       "    <tr>\n",
       "      <th>understandable</th>\n",
       "      <td>0.22***</td>\n",
       "      <td>0.10</td>\n",
       "    </tr>\n",
       "    <tr>\n",
       "      <th>well_written</th>\n",
       "      <td>0.11</td>\n",
       "      <td>0.05</td>\n",
       "    </tr>\n",
       "  </tbody>\n",
       "</table>\n",
       "</div>"
      ],
      "text/plain": [
       "                    interestingness             \n",
       "                 informative segues funny segues\n",
       "likeable                    0.25***         0.13\n",
       "high_quality                0.23***         0.11\n",
       "sparked_interest             0.17**        -0.00\n",
       "funny                         -0.06       -0.17*\n",
       "informative                   0.14*         0.04\n",
       "creative                      0.15*        -0.09\n",
       "understandable              0.22***         0.10\n",
       "well_written                   0.11         0.05"
      ]
     },
     "execution_count": 23,
     "metadata": {},
     "output_type": "execute_result"
    }
   ],
   "source": [
    "add1 = correlation_df_pvalues(df[df.segue_category=='I'], rows=['interestingness'], headers=['likeable', 'high_quality', 'sparked_interest', 'funny', 'informative', 'creative', 'understandable','well_written'])\n",
    "add2 = correlation_df_pvalues(df[df.segue_category=='F'], rows=['interestingness'], headers=['likeable', 'high_quality', 'sparked_interest', 'funny', 'informative', 'creative', 'understandable','well_written'])\n",
    "o = pd.concat([add1, add2])\n",
    "o=o.set_index(pd.Index(['interestingness','interestingness']))\n",
    "o=o.set_index(pd.Index(['informative segues','funny segues']), append=True).T\n",
    "o"
   ]
  },
  {
   "cell_type": "code",
   "execution_count": 24,
   "metadata": {
    "collapsed": true,
    "jupyter": {
     "outputs_hidden": true,
     "source_hidden": true
    }
   },
   "outputs": [
    {
     "name": "stdout",
     "output_type": "stream",
     "text": [
      "\\begin{table} \n",
      "\\begin{tabular}{lcc}\n",
      "\\toprule\n",
      "{} & \\multicolumn{2}{c}{interestingness} \\\\\n",
      "{} & informative segues & funny segues \\\\\n",
      "\\midrule\n",
      "\\likeable       &       $0.25^{***}$ &       $0.13$ \\\\\n",
      "\\hq             &       $0.23^{***}$ &       $0.11$ \\\\\n",
      "\\si             &        $0.17^{**}$ &      $-0.00$ \\\\\n",
      "\\funny          &            $-0.06$ &  $-0.17^{*}$ \\\\\n",
      "\\informative    &         $0.14^{*}$ &       $0.04$ \\\\\n",
      "\\creative       &         $0.15^{*}$ &      $-0.09$ \\\\\n",
      "\\understandable &       $0.22^{***}$ &       $0.10$ \\\\\n",
      "\\ww             &             $0.11$ &       $0.05$ \\\\\n",
      "\\bottomrule\n",
      "\\end{tabular}\n",
      "\\caption{} \n",
      " \\label{} \n",
      " \\end{table}\n"
     ]
    }
   ],
   "source": [
    "to_latex(o)"
   ]
  },
  {
   "cell_type": "markdown",
   "metadata": {},
   "source": [
    "# Confounding effects of familiarity\n",
    "<a id=\"familiarity\"></a>\n",
    "[Go to top](#top)"
   ]
  },
  {
   "cell_type": "markdown",
   "metadata": {},
   "source": [
    "By the way, unbalanced classes"
   ]
  },
  {
   "cell_type": "code",
   "execution_count": 25,
   "metadata": {
    "jupyter": {
     "source_hidden": true
    }
   },
   "outputs": [
    {
     "data": {
      "image/png": "[encoded data removed]",
      "text/plain": [
       "<Figure size 1080x360 with 4 Axes>"
      ]
     },
     "metadata": {},
     "output_type": "display_data"
    }
   ],
   "source": [
    "df_familarity=familiarity_df()\n",
    "fig, (ax1, ax2)=plt.subplots(2,2, figsize=(15,5))\n",
    "ax1[0].set_title(\"Familiarity first artist\")\n",
    "ax1[1].set_title(\"Familiarity second artist\")\n",
    "ax2[0].set_title(\"Familiarity first song\")\n",
    "ax2[1].set_title(\"Familiarity second song\")\n",
    "df_familarity.familiarity_first_artist.hist(ax=ax1[0], )\n",
    "df_familarity.familiarity_second_artist.hist(ax=ax1[1])\n",
    "df_familarity.familiarity_first_song.hist(ax=ax2[0])\n",
    "_=df_familarity.familiarity_second_song.hist(ax=ax2[1])"
   ]
  },
  {
   "cell_type": "code",
   "execution_count": 26,
   "metadata": {
    "jupyter": {
     "source_hidden": true
    }
   },
   "outputs": [],
   "source": [
    "df_eval=segue_eval_df(load_answers())\n",
    "idx=['segue_idx','user_idx','treatment']\n",
    "df=df_eval.set_index(idx).join(df_familarity.set_index(idx)).reset_index()"
   ]
  },
  {
   "cell_type": "code",
   "execution_count": 27,
   "metadata": {
    "jupyter": {
     "source_hidden": true
    }
   },
   "outputs": [
    {
     "data": {
      "text/html": [
       "<div>\n",
       "<style scoped>\n",
       "    .dataframe tbody tr th:only-of-type {\n",
       "        vertical-align: middle;\n",
       "    }\n",
       "\n",
       "    .dataframe tbody tr th {\n",
       "        vertical-align: top;\n",
       "    }\n",
       "\n",
       "    .dataframe thead th {\n",
       "        text-align: right;\n",
       "    }\n",
       "</style>\n",
       "<table border=\"1\" class=\"dataframe\">\n",
       "  <thead>\n",
       "    <tr style=\"text-align: right;\">\n",
       "      <th></th>\n",
       "      <th>likeable</th>\n",
       "      <th>high_quality</th>\n",
       "      <th>sparked_interest</th>\n",
       "      <th>funny</th>\n",
       "      <th>informative</th>\n",
       "      <th>creative</th>\n",
       "      <th>understandable</th>\n",
       "      <th>well_written</th>\n",
       "    </tr>\n",
       "    <tr>\n",
       "      <th>familiar with</th>\n",
       "      <th></th>\n",
       "      <th></th>\n",
       "      <th></th>\n",
       "      <th></th>\n",
       "      <th></th>\n",
       "      <th></th>\n",
       "      <th></th>\n",
       "      <th></th>\n",
       "    </tr>\n",
       "  </thead>\n",
       "  <tbody>\n",
       "    <tr>\n",
       "      <th>neither songs</th>\n",
       "      <td>3.11</td>\n",
       "      <td>3.03</td>\n",
       "      <td>2.81</td>\n",
       "      <td>2.65</td>\n",
       "      <td>3.08</td>\n",
       "      <td>3.36</td>\n",
       "      <td>3.67</td>\n",
       "      <td>3.25</td>\n",
       "    </tr>\n",
       "    <tr>\n",
       "      <th>just $1^{st}$ song</th>\n",
       "      <td>3.22</td>\n",
       "      <td>3.08</td>\n",
       "      <td>3.08*</td>\n",
       "      <td>2.64</td>\n",
       "      <td>3.30*</td>\n",
       "      <td>3.45</td>\n",
       "      <td>3.87</td>\n",
       "      <td>3.40</td>\n",
       "    </tr>\n",
       "    <tr>\n",
       "      <th>just $2^{nd}$ song</th>\n",
       "      <td>3.29</td>\n",
       "      <td>3.18</td>\n",
       "      <td>3.27***</td>\n",
       "      <td>2.79</td>\n",
       "      <td>3.16</td>\n",
       "      <td>3.57*</td>\n",
       "      <td>3.86</td>\n",
       "      <td>3.41</td>\n",
       "    </tr>\n",
       "    <tr>\n",
       "      <th>both songs</th>\n",
       "      <td>3.49**</td>\n",
       "      <td>3.29*</td>\n",
       "      <td>3.47***</td>\n",
       "      <td>2.78</td>\n",
       "      <td>3.28</td>\n",
       "      <td>3.61*</td>\n",
       "      <td>3.93*</td>\n",
       "      <td>3.61**</td>\n",
       "    </tr>\n",
       "  </tbody>\n",
       "</table>\n",
       "</div>"
      ],
      "text/plain": [
       "                   likeable high_quality sparked_interest funny informative  \\\n",
       "familiar with                                                                 \n",
       "neither songs          3.11         3.03             2.81  2.65        3.08   \n",
       "just $1^{st}$ song     3.22         3.08            3.08*  2.64       3.30*   \n",
       "just $2^{nd}$ song     3.29         3.18          3.27***  2.79        3.16   \n",
       "both songs           3.49**        3.29*          3.47***  2.78        3.28   \n",
       "\n",
       "                   creative understandable well_written  \n",
       "familiar with                                            \n",
       "neither songs          3.36           3.67         3.25  \n",
       "just $1^{st}$ song     3.45           3.87         3.40  \n",
       "just $2^{nd}$ song    3.57*           3.86         3.41  \n",
       "both songs            3.61*          3.93*       3.61**  "
      ]
     },
     "execution_count": 27,
     "metadata": {},
     "output_type": "execute_result"
    }
   ],
   "source": [
    "table=performance_table(df, attribute=['familiarity_first_song', 'familiarity_second_song'], test_type='ind', \\\n",
    "                  tests=[(('Not Familiar','Not Familiar'), ('Familiar','Familiar')),\\\n",
    "                        (('Not Familiar','Not Familiar'), ('Familiar','Not Familiar')),\\\n",
    "                        (('Not Familiar','Not Familiar'), ('Not Familiar','Familiar'))])\n",
    "table=table.reindex([('Not Familiar','Not Familiar'), ('Familiar','Not Familiar'),('Not Familiar','Familiar'),('Familiar','Familiar')])\n",
    "table=table.rename(index={(\"Familiar\", \"Familiar\"): \"both songs\",\\\n",
    "                         (\"Familiar\", \"Not Familiar\"): \"just $1^{st}$ song\",\\\n",
    "                         (\"Not Familiar\", \"Familiar\"): \"just $2^{nd}$ song\",\\\n",
    "                         (\"Not Familiar\", \"Not Familiar\"): \"neither songs\",})\n",
    "table.index = table.index.rename('familiar with')\n",
    "table"
   ]
  },
  {
   "cell_type": "markdown",
   "metadata": {},
   "source": [
    "Metrics rise, but not in a statistical significant way (maybe too few samples). Here we are testing last row against all the other ones.\n",
    "\n",
    "- Familiarity with songs makes metrics rise more than familiarity with artists. Other than this, same behaviour, only the magnitude changes. We show just familiarity with songs;\n",
    "- It does not make sense to partition further (on user category and segue category) because we have already a lot of uncertainty, very few people are familiar with songs and artists."
   ]
  },
  {
   "cell_type": "markdown",
   "metadata": {},
   "source": [
    "(Maybe too strong) Takeaways: segues tend to be particularly appreciated when they link songs the user is familiar with. They are not suited for new music discovery, as the sparked_interest metrics tend to be low when the user is familiar with just the first song.\n",
    "Still, they can be of useful e.g. for decorating playlists of user's old music."
   ]
  },
  {
   "cell_type": "code",
   "execution_count": 28,
   "metadata": {
    "collapsed": true,
    "jupyter": {
     "outputs_hidden": true,
     "source_hidden": true
    }
   },
   "outputs": [
    {
     "name": "stdout",
     "output_type": "stream",
     "text": [
      "\\begin{table} \n",
      "\\begin{tabular}{lcccccccc}\n",
      "\\toprule\n",
      "{} &    \\likeable &         \\hq &           \\si &  \\funny & \\informative &   \\creative & \\understandable &          \\ww \\\\\n",
      "familiar with      &              &             &               &         &              &             &                 &              \\\\\n",
      "\\midrule\n",
      "neither songs      &       $3.11$ &      $3.03$ &        $2.81$ &  $2.65$ &       $3.08$ &      $3.36$ &          $3.67$ &       $3.25$ \\\\\n",
      "just $1^{st}$ song &       $3.22$ &      $3.08$ &    $3.08^{*}$ &  $2.64$ &   $3.30^{*}$ &      $3.45$ &          $3.87$ &       $3.40$ \\\\\n",
      "just $2^{nd}$ song &       $3.29$ &      $3.18$ &  $3.27^{***}$ &  $2.79$ &       $3.16$ &  $3.57^{*}$ &          $3.86$ &       $3.41$ \\\\\n",
      "both songs         &  $3.49^{**}$ &  $3.29^{*}$ &  $3.47^{***}$ &  $2.78$ &       $3.28$ &  $3.61^{*}$ &      $3.93^{*}$ &  $3.61^{**}$ \\\\\n",
      "\\bottomrule\n",
      "\\end{tabular}\n",
      "\\caption{} \n",
      " \\label{} \n",
      " \\end{table}\n"
     ]
    }
   ],
   "source": [
    "to_latex(table)"
   ]
  }
 ],
 "metadata": {
  "kernelspec": {
   "display_name": "Python 3",
   "language": "python",
   "name": "python3"
  },
  "language_info": {
   "codemirror_mode": {
    "name": "ipython",
    "version": 3
   },
   "file_extension": ".py",
   "mimetype": "text/x-python",
   "name": "python",
   "nbconvert_exporter": "python",
   "pygments_lexer": "ipython3",
   "version": "3.7.3"
  }
 },
 "nbformat": 4,
 "nbformat_minor": 4
}
